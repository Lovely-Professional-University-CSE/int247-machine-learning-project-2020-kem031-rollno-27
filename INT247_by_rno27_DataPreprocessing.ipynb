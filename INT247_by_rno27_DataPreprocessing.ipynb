{
  "nbformat": 4,
  "nbformat_minor": 0,
  "metadata": {
    "colab": {
      "name": "INT247 by rno27 DataPreprocessing.ipynb",
      "provenance": [],
      "collapsed_sections": []
    },
    "kernelspec": {
      "name": "python3",
      "display_name": "Python 3"
    }
  },
  "cells": [
    {
      "cell_type": "markdown",
      "metadata": {
        "id": "WOWoCuFKoHSE",
        "colab_type": "text"
      },
      "source": [
        "Checking version compatibility of tensorflow"
      ]
    },
    {
      "cell_type": "code",
      "metadata": {
        "id": "jxrBUC77IvEh",
        "colab_type": "code",
        "outputId": "d47cf5b2-57a3-470a-dc3b-fba3158107bf",
        "colab": {
          "base_uri": "https://localhost:8080/",
          "height": 34
        }
      },
      "source": [
        "import tensorflow as tf\n",
        "print(tf.__version__)"
      ],
      "execution_count": 1,
      "outputs": [
        {
          "output_type": "stream",
          "text": [
            "2.2.0-rc2\n"
          ],
          "name": "stdout"
        }
      ]
    },
    {
      "cell_type": "code",
      "metadata": {
        "id": "Aqwnp3atWRM_",
        "colab_type": "code",
        "colab": {}
      },
      "source": [
        "import warnings\n",
        "warnings.filterwarnings(\"ignore\")"
      ],
      "execution_count": 0,
      "outputs": []
    },
    {
      "cell_type": "markdown",
      "metadata": {
        "id": "C0vSJeoMoLD1",
        "colab_type": "text"
      },
      "source": [
        "Loading the MNIST handwritten digits dataset from keras"
      ]
    },
    {
      "cell_type": "code",
      "metadata": {
        "id": "OGWU1DDmJZym",
        "colab_type": "code",
        "outputId": "6c699516-501a-43ad-e52d-0ab0b3d62780",
        "colab": {
          "base_uri": "https://localhost:8080/",
          "height": 69
        }
      },
      "source": [
        "(x_train,y_train),(x_test,y_test) = tf.keras.datasets.mnist.load_data()\n",
        "print(x_train.shape)\n",
        "print(y_train[:10])\n",
        "print(y_train.shape)"
      ],
      "execution_count": 3,
      "outputs": [
        {
          "output_type": "stream",
          "text": [
            "(60000, 28, 28)\n",
            "[5 0 4 1 9 2 1 3 1 4]\n",
            "(60000,)\n"
          ],
          "name": "stdout"
        }
      ]
    },
    {
      "cell_type": "code",
      "metadata": {
        "id": "3H1YLVPFn3kn",
        "colab_type": "code",
        "colab": {
          "base_uri": "https://localhost:8080/",
          "height": 34
        },
        "outputId": "2769cf0e-c04d-4caf-c7a3-fd6263edca85"
      },
      "source": [
        "from tensorflow import keras\n",
        "from keras.models import Sequential\n",
        "from keras.layers import Dense, Dropout, Flatten\n",
        "from keras.layers import Conv2D, MaxPooling2D\n",
        "from keras import backend as K"
      ],
      "execution_count": 4,
      "outputs": [
        {
          "output_type": "stream",
          "text": [
            "Using TensorFlow backend.\n"
          ],
          "name": "stderr"
        }
      ]
    },
    {
      "cell_type": "markdown",
      "metadata": {
        "id": "M38V_DKWoOkP",
        "colab_type": "text"
      },
      "source": [
        "Formatting and re-shaping our training sets"
      ]
    },
    {
      "cell_type": "code",
      "metadata": {
        "id": "lKmiY73PnAA3",
        "colab_type": "code",
        "outputId": "95b632ac-db4d-42e0-cd19-849375ec0d55",
        "colab": {
          "base_uri": "https://localhost:8080/",
          "height": 69
        }
      },
      "source": [
        "x_train = x_train.reshape(x_train.shape[0], 28, 28, 1)\n",
        "x_test = x_test.reshape(x_test.shape[0], 28, 28, 1)\n",
        "input_shape = (28, 28, 1)\n",
        "y_train = keras.utils.to_categorical(y_train,num_classes=10)\n",
        "y_test = keras.utils.to_categorical(y_test,num_classes=10)\n",
        "x_train = x_train.astype('float32')\n",
        "x_test = x_test.astype('float32')\n",
        "x_train /= 255.0\n",
        "x_test /= 255.0\n",
        "print('x_train shape:', x_train.shape)\n",
        "print(x_train.shape[0], 'train samples')\n",
        "print(x_test.shape[0], 'test samples')"
      ],
      "execution_count": 5,
      "outputs": [
        {
          "output_type": "stream",
          "text": [
            "x_train shape: (60000, 28, 28, 1)\n",
            "60000 train samples\n",
            "10000 test samples\n"
          ],
          "name": "stdout"
        }
      ]
    },
    {
      "cell_type": "markdown",
      "metadata": {
        "id": "7GMN6gMGoQun",
        "colab_type": "text"
      },
      "source": [
        "Training the model"
      ]
    },
    {
      "cell_type": "code",
      "metadata": {
        "id": "t77OLmXjJA3y",
        "colab_type": "code",
        "colab": {}
      },
      "source": [
        "batch_size = 128\n",
        "num_classes = 10\n",
        "epochs = 10\n",
        "model = keras.models.Sequential()\n",
        "model.add(keras.layers.Conv2D(32, kernel_size=(3, 3),activation='relu',input_shape=input_shape))\n",
        "model.add(keras.layers.Conv2D(64, (3, 3), activation='relu'))\n",
        "model.add(keras.layers.MaxPooling2D(pool_size=(2, 2)))\n",
        "model.add(keras.layers.Dropout(0.25))\n",
        "model.add(keras.layers.Flatten())\n",
        "model.add(keras.layers.Dense(256, activation='relu'))\n",
        "model.add(keras.layers.Dropout(0.5))\n",
        "model.add(keras.layers.Dense(num_classes, activation='softmax'))\n",
        "model.compile(loss=keras.losses.categorical_crossentropy,optimizer=keras.optimizers.Adadelta(),metrics=['accuracy'])"
      ],
      "execution_count": 0,
      "outputs": []
    },
    {
      "cell_type": "code",
      "metadata": {
        "id": "NPzt1OJKuTIo",
        "colab_type": "code",
        "outputId": "56ffaa6e-0d15-429b-dbae-448d80a61c29",
        "colab": {
          "base_uri": "https://localhost:8080/",
          "height": 34
        }
      },
      "source": [
        "print(x_train.shape, x_test.shape, y_train.shape, y_test.shape)"
      ],
      "execution_count": 7,
      "outputs": [
        {
          "output_type": "stream",
          "text": [
            "(60000, 28, 28, 1) (10000, 28, 28, 1) (60000, 10) (10000, 10)\n"
          ],
          "name": "stdout"
        }
      ]
    },
    {
      "cell_type": "code",
      "metadata": {
        "id": "A3RqyhAbtbtx",
        "colab_type": "code",
        "outputId": "27b96740-4067-4272-893f-dd59cd25ad4d",
        "colab": {
          "base_uri": "https://localhost:8080/",
          "height": 436
        }
      },
      "source": [
        "epochs=10\n",
        "hist = model.fit(x_train, y_train,batch_size=batch_size,epochs=epochs,verbose=1,validation_split=0.2,validation_data=(x_test, y_test))\n",
        "print(\"The model has successfully trained\")\n",
        "model.save('mnist.ash')\n",
        "print(\"This model has been saved as mnist.ash\")"
      ],
      "execution_count": 12,
      "outputs": [
        {
          "output_type": "stream",
          "text": [
            "Epoch 1/10\n",
            "375/375 [==============================] - 130s 346ms/step - loss: 0.4321 - accuracy: 0.8699 - val_loss: 0.2948 - val_accuracy: 0.9147\n",
            "Epoch 2/10\n",
            "375/375 [==============================] - 129s 344ms/step - loss: 0.4320 - accuracy: 0.8685 - val_loss: 0.2921 - val_accuracy: 0.9153\n",
            "Epoch 3/10\n",
            "375/375 [==============================] - 130s 346ms/step - loss: 0.4251 - accuracy: 0.8706 - val_loss: 0.2888 - val_accuracy: 0.9159\n",
            "Epoch 4/10\n",
            "375/375 [==============================] - 128s 342ms/step - loss: 0.4196 - accuracy: 0.8716 - val_loss: 0.2854 - val_accuracy: 0.9168\n",
            "Epoch 5/10\n",
            "375/375 [==============================] - 129s 343ms/step - loss: 0.4157 - accuracy: 0.8747 - val_loss: 0.2831 - val_accuracy: 0.9174\n",
            "Epoch 6/10\n",
            "375/375 [==============================] - 129s 343ms/step - loss: 0.4156 - accuracy: 0.8746 - val_loss: 0.2802 - val_accuracy: 0.9187\n",
            "Epoch 7/10\n",
            "375/375 [==============================] - 129s 343ms/step - loss: 0.4079 - accuracy: 0.8768 - val_loss: 0.2779 - val_accuracy: 0.9193\n",
            "Epoch 8/10\n",
            "375/375 [==============================] - 129s 344ms/step - loss: 0.4038 - accuracy: 0.8780 - val_loss: 0.2755 - val_accuracy: 0.9197\n",
            "Epoch 9/10\n",
            "375/375 [==============================] - 129s 343ms/step - loss: 0.3993 - accuracy: 0.8769 - val_loss: 0.2728 - val_accuracy: 0.9208\n",
            "Epoch 10/10\n",
            "375/375 [==============================] - 128s 342ms/step - loss: 0.3984 - accuracy: 0.8788 - val_loss: 0.2702 - val_accuracy: 0.9212\n",
            "The model has successfully trained\n",
            "INFO:tensorflow:Assets written to: mnist.ash/assets\n",
            "This model has been saved as mnist.ash\n"
          ],
          "name": "stdout"
        }
      ]
    },
    {
      "cell_type": "markdown",
      "metadata": {
        "id": "0_qWixaFoU-m",
        "colab_type": "text"
      },
      "source": [
        "Evaluation of trained model"
      ]
    },
    {
      "cell_type": "code",
      "metadata": {
        "id": "8KzcaFEC30p7",
        "colab_type": "code",
        "outputId": "d4c2d3d8-9e23-4002-f9d8-efa95938467e",
        "colab": {
          "base_uri": "https://localhost:8080/",
          "height": 69
        }
      },
      "source": [
        "    score = model.evaluate(x_test, y_test, verbose=0)\n",
        "    print(\"Model: CNN\")\n",
        "    print('Test loss:', round(score[0]*100, 2),\"%\")\n",
        "    print('Test accuracy:', round(score[1]*100,2), \"%\" )"
      ],
      "execution_count": 13,
      "outputs": [
        {
          "output_type": "stream",
          "text": [
            "Model: CNN\n",
            "Test loss: 27.26 %\n",
            "Test accuracy: 92.17 %\n"
          ],
          "name": "stdout"
        }
      ]
    }
  ]
}